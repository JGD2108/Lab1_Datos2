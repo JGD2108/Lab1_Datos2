{
 "cells": [
  {
   "cell_type": "code",
   "execution_count": 7,
   "metadata": {},
   "outputs": [],
   "source": [
    "import pandas as pd\n",
    "from sklearn.tree import DecisionTreeClassifier, plot_tree\n",
    "from sklearn.model_selection import train_test_split\n",
    "from sklearn.metrics import accuracy_score, confusion_matrix\n",
    "import seaborn as sns\n",
    "import matplotlib.pyplot as plt"
   ]
  },
  {
   "attachments": {},
   "cell_type": "markdown",
   "metadata": {},
   "source": [
    "This code loads the astronomy dataset from a CSV file, selects a set of features to use as input to a decision tree model, and splits the data into training and testing sets. It then trains a decision tree classifier on the training data and evaluates its performance on the test data by computing accuracy and a confusion matrix.\n",
    "\n",
    "Finally, the code visualizes the decision tree using the plot_tree() function from scikit-learn, and displays a heatmap of the confusion matrix using sns.heatmap() and plt.show().\n",
    "\n",
    "Overall, this code demonstrates how to train a decision tree classifier on an astronomy dataset, evaluate its performance, and visualize the resulting tree and confusion matrix."
   ]
  },
  {
   "cell_type": "code",
   "execution_count": 8,
   "metadata": {},
   "outputs": [
    {
     "name": "stdout",
     "output_type": "stream",
     "text": [
      "          objid          ra       dec         u         g         r         i  \\\n",
      "0  1.237650e+18  183.531326  0.089693  19.47406  17.04240  15.94699  15.50342   \n",
      "1  1.237650e+18  183.598370  0.135285  18.66280  17.21449  16.67637  16.48922   \n",
      "2  1.237650e+18  183.680207  0.126185  19.38298  18.19169  17.47428  17.08732   \n",
      "3  1.237650e+18  183.870529  0.049911  17.76536  16.60272  16.16116  15.98233   \n",
      "4  1.237650e+18  183.883288  0.102557  17.55025  16.26342  16.43869  16.55492   \n",
      "\n",
      "          z  run  rerun  camcol  field     specobjid   class  redshift  plate  \\\n",
      "0  15.22531  752    301       4    267  3.722360e+18    STAR -0.000009   3306   \n",
      "1  16.39150  752    301       4    267  3.638140e+17    STAR -0.000055    323   \n",
      "2  16.80125  752    301       4    268  3.232740e+17  GALAXY  0.123111    287   \n",
      "3  15.90438  752    301       4    269  3.722370e+18    STAR -0.000111   3306   \n",
      "4  16.61326  752    301       4    269  3.722370e+18    STAR  0.000590   3306   \n",
      "\n",
      "     mjd  fiberid  \n",
      "0  54922      491  \n",
      "1  51615      541  \n",
      "2  52023      513  \n",
      "3  54922      510  \n",
      "4  54922      512  \n"
     ]
    }
   ],
   "source": [
    "# Load the data\n",
    "data = pd.read_csv('Datos/Skyserver_SQL2_27_2018 6_51_39 PM.csv')\n",
    "print(data.head())\n",
    "\n",
    "# Select the features and target variable\n",
    "features = ['ra', 'dec', 'u', 'g', 'r', 'i', 'z']\n",
    "target = 'class'\n",
    "\n",
    "X = data[features]\n",
    "y = data[target]\n"
   ]
  },
  {
   "attachments": {},
   "cell_type": "markdown",
   "metadata": {},
   "source": [
    "The data consists of 10,000 observations of space taken by the SDSS. Every observation is described by 17 feature columns and 1 class column which identifies it to be either a star, galaxy or quasar."
   ]
  },
  {
   "cell_type": "code",
   "execution_count": 9,
   "metadata": {},
   "outputs": [
    {
     "name": "stdout",
     "output_type": "stream",
     "text": [
      "Accuracy: 0.896\n",
      "Confusion matrix:\n",
      "[[1095  107   15]\n",
      " [ 131 1348   18]\n",
      " [  21   20  245]]\n"
     ]
    }
   ],
   "source": [
    "# Split the data into training and testing sets\n",
    "X_train, X_test, y_train, y_test = train_test_split(X, y, test_size=0.3, random_state=42)\n",
    "\n",
    "# Train a decision tree classifier\n",
    "clf = DecisionTreeClassifier()\n",
    "clf.fit(X_train, y_train)\n",
    "\n",
    "# Make predictions on the test set\n",
    "y_pred = clf.predict(X_test)\n",
    "\n",
    "# Compute accuracy and print confusion matrix\n",
    "accuracy = accuracy_score(y_test, y_pred)\n",
    "print(f'Accuracy: {accuracy}')\n",
    "cm = confusion_matrix(y_test, y_pred, labels=['STAR', 'GALAXY', 'QSO'])\n",
    "print('Confusion matrix:')\n",
    "print(cm)"
   ]
  },
  {
   "cell_type": "code",
   "execution_count": null,
   "metadata": {},
   "outputs": [],
   "source": [
    "# Plot confusion matrix\n",
    "sns.set()\n",
    "sns.heatmap(cm, annot=True, fmt='g', cmap='Blues', xticklabels=['STAR', 'GALAXY', 'QSO'], yticklabels=['STAR', 'GALAXY', 'QSO'])\n",
    "plt.xlabel('Predicted')\n",
    "plt.ylabel('True')\n",
    "plt.show()\n",
    "\n",
    "# Visualize decision tree\n",
    "plt.figure(figsize=(20,10))\n",
    "plot_tree(clf, feature_names=features, class_names=['STAR', 'GALAXY', 'QSO'], filled=True)\n",
    "plt.show()"
   ]
  }
 ],
 "metadata": {
  "kernelspec": {
   "display_name": "Python 3",
   "language": "python",
   "name": "python3"
  },
  "language_info": {
   "codemirror_mode": {
    "name": "ipython",
    "version": 3
   },
   "file_extension": ".py",
   "mimetype": "text/x-python",
   "name": "python",
   "nbconvert_exporter": "python",
   "pygments_lexer": "ipython3",
   "version": "3.10.6"
  },
  "orig_nbformat": 4,
  "vscode": {
   "interpreter": {
    "hash": "67e0cbc25fa4f5baaacba1240f401bc655b640f8e15cfc935dfee2e63491bdf4"
   }
  }
 },
 "nbformat": 4,
 "nbformat_minor": 2
}
